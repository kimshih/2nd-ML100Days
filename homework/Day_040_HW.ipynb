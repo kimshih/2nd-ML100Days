{
 "cells": [
  {
   "cell_type": "markdown",
   "metadata": {},
   "source": [
    "## [H重點]\n",
    "使用 Sklearn 中的 Lasso, Ridge 模型，來訓練各種資料集，務必了解送進去模型訓練的**資料型態**為何，也請了解模型中各項參數的意義。\n",
    "\n",
    "機器學習的模型非常多種，但要訓練的資料多半有固定的格式，確保你了解訓練資料的格式為何，這樣在應用新模型時，就能夠最快的上手開始訓練！"
   ]
  },
  {
   "cell_type": "markdown",
   "metadata": {},
   "source": [
    "## 練習時間\n",
    "試著使用 sklearn datasets 的其他資料集 (boston, ...)，來訓練自己的線性迴歸模型，並加上適當的正則話來觀察訓練情形。"
   ]
  },
  {
   "cell_type": "code",
   "execution_count": 1,
   "metadata": {},
   "outputs": [],
   "source": [
    "import numpy as np\n",
    "from sklearn import datasets, linear_model\n",
    "from sklearn.model_selection import train_test_split\n",
    "from sklearn.metrics import mean_squared_error, r2_score"
   ]
  },
  {
   "cell_type": "code",
   "execution_count": 4,
   "metadata": {},
   "outputs": [],
   "source": [
    "boston_housing = datasets.load_boston()\n",
    "\n",
    "X_train, X_test, y_train, y_test = train_test_split(boston_housing.data, boston_housing.target, test_size=0.33, random_state=42)\n",
    "\n",
    "# 建立一個線性回歸模型\n",
    "regr = linear_model.LinearRegression()\n",
    "\n",
    "# 將訓練資料丟進去模型訓練\n",
    "regr.fit(X_train, y_train)\n",
    "\n",
    "# 將測試資料丟進模型得到預測結果\n",
    "y_pred = regr.predict(X_test)"
   ]
  },
  {
   "cell_type": "code",
   "execution_count": 5,
   "metadata": {},
   "outputs": [
    {
     "name": "stdout",
     "output_type": "stream",
     "text": [
      "[-1.28749718e-01  3.78232228e-02  5.82109233e-02  3.23866812e+00\n",
      " -1.61698120e+01  3.90205116e+00 -1.28507825e-02 -1.42222430e+00\n",
      "  2.34853915e-01 -8.21331947e-03 -9.28722459e-01  1.17695921e-02\n",
      " -5.47566338e-01]\n",
      "Mean squared error: 20.72\n"
     ]
    }
   ],
   "source": [
    "print(regr.coef_)\n",
    "# 預測值與實際值的差距，使用 MSE\n",
    "print(\"Mean squared error: %.2f\"\n",
    "      % mean_squared_error(y_test, y_pred))"
   ]
  },
  {
   "cell_type": "markdown",
   "metadata": {},
   "source": [
    "## LASSO"
   ]
  },
  {
   "cell_type": "code",
   "execution_count": 16,
   "metadata": {},
   "outputs": [
    {
     "name": "stdout",
     "output_type": "stream",
     "text": [
      "[-0.11574403  0.04010153 -0.          1.62617958 -0.          3.73197757\n",
      " -0.02209326 -1.13663861  0.20775405 -0.01016164 -0.75142609  0.01243649\n",
      " -0.60785656]\n",
      "Mean squared error: 22.00\n"
     ]
    }
   ],
   "source": [
    "boston_housing = datasets.load_boston()\n",
    "\n",
    "X_train, X_test, y_train, y_test = train_test_split(boston_housing.data, boston_housing.target, test_size=0.33, random_state=42)\n",
    "\n",
    "# 建立一個線性回歸模型\n",
    "lasso_regr = linear_model.Lasso(alpha = 0.1)\n",
    "lasso_regr.fit(X_train,y_train)\n",
    "y_pred = lasso_regr.predict(X_test)\n",
    "\n",
    "print(lasso_regr.coef_)\n",
    "# 預測值與實際值的差距，使用 MSE\n",
    "print(\"Mean squared error: %.2f\"\n",
    "      % mean_squared_error(y_test, y_pred))\n"
   ]
  },
  {
   "cell_type": "code",
   "execution_count": 22,
   "metadata": {},
   "outputs": [],
   "source": [
    "# try alpha from 0.01 to 10\n",
    "alpha_settings = [0.01, 0.05, 0.1, 0.2, 0.3, 0.4, 0.5, 0.6, 0.7, 0.8, 0.9, 1.0, 2.0, 3.0, 4.0, 5.0, 6.0, 7.0, 8.0, 9.0, 10.0]\n",
    "mse = []\n",
    "\n",
    "for alpha in alpha_settings:\n",
    "    lasso_regr = linear_model.Lasso(alpha = alpha)\n",
    "    lasso_regr.fit(X_train,y_train)\n",
    "    y_pred = lasso_regr.predict(X_test)\n",
    "    mse.append(mean_squared_error(y_test, y_pred))\n"
   ]
  },
  {
   "cell_type": "code",
   "execution_count": 26,
   "metadata": {},
   "outputs": [
    {
     "data": {
      "text/plain": [
       "<matplotlib.legend.Legend at 0x295b644f128>"
      ]
     },
     "execution_count": 26,
     "metadata": {},
     "output_type": "execute_result"
    },
    {
     "data": {
      "image/png": "[encoded data removed]",
      "text/plain": [
       "<Figure size 432x288 with 1 Axes>"
      ]
     },
     "metadata": {
      "needs_background": "light"
     },
     "output_type": "display_data"
    }
   ],
   "source": [
    "import matplotlib.pyplot as plt\n",
    "\n",
    "# 將結果繪圖\n",
    "plt.plot((np.array(alpha_settings)),\n",
    "         mse, label=\"MSE\")\n",
    "\n",
    "plt.ylabel(\"MSE\")\n",
    "plt.xlabel(\"alpha logs\")\n",
    "plt.legend()\n"
   ]
  },
  {
   "cell_type": "markdown",
   "metadata": {},
   "source": [
    "## Ridge"
   ]
  },
  {
   "cell_type": "code",
   "execution_count": 21,
   "metadata": {},
   "outputs": [
    {
     "name": "stdout",
     "output_type": "stream",
     "text": [
      "[-1.27596437e-01  3.79911711e-02  5.18429889e-02  3.20983515e+00\n",
      " -1.46911806e+01  3.90614294e+00 -1.41161857e-02 -1.40022828e+00\n",
      "  2.31396085e-01 -8.34450270e-03 -9.12033887e-01  1.18108114e-02\n",
      " -5.50825528e-01]\n",
      "Mean squared error: 20.77\n"
     ]
    }
   ],
   "source": [
    "boston_housing = datasets.load_boston()\n",
    "\n",
    "X_train, X_test, y_train, y_test = train_test_split(boston_housing.data, boston_housing.target, test_size=0.33, random_state=42)\n",
    "\n",
    "# 建立一個線性回歸模型\n",
    "ridge_regr = linear_model.Ridge(alpha = 0.1)\n",
    "ridge_regr.fit(X_train,y_train)\n",
    "y_pred = ridge_regr.predict(X_test)\n",
    "\n",
    "print(ridge_regr.coef_)\n",
    "# 預測值與實際值的差距，使用 MSE\n",
    "print(\"Mean squared error: %.2f\"\n",
    "      % mean_squared_error(y_test, y_pred))"
   ]
  },
  {
   "cell_type": "code",
   "execution_count": 27,
   "metadata": {},
   "outputs": [
    {
     "data": {
      "text/plain": [
       "<matplotlib.legend.Legend at 0x295b659a198>"
      ]
     },
     "execution_count": 27,
     "metadata": {},
     "output_type": "execute_result"
    },
    {
     "data": {
      "image/png": "[encoded data removed]",
      "text/plain": [
       "<Figure size 432x288 with 1 Axes>"
      ]
     },
     "metadata": {
      "needs_background": "light"
     },
     "output_type": "display_data"
    }
   ],
   "source": [
    "ridge_mse= []\n",
    "\n",
    "for alpha in alpha_settings:\n",
    "    ridge_regr = linear_model.Ridge(alpha = alpha)\n",
    "    ridge_regr.fit(X_train,y_train)\n",
    "    y_pred = ridge_regr.predict(X_test)\n",
    "    ridge_mse.append(mean_squared_error(y_test, y_pred))\n",
    "    \n",
    "\n",
    "# 將結果繪圖\n",
    "plt.plot((np.array(alpha_settings)),\n",
    "         ridge_mse, label=\"Ridge MSE\")\n",
    "\n",
    "plt.ylabel(\"MSE\")\n",
    "plt.xlabel(\"alpha logs\")\n",
    "plt.legend()"
   ]
  },
  {
   "cell_type": "code",
   "execution_count": null,
   "metadata": {},
   "outputs": [],
   "source": []
  }
 ],
 "metadata": {
  "kernelspec": {
   "display_name": "Python 3",
   "language": "python",
   "name": "python3"
  },
  "language_info": {
   "codemirror_mode": {
    "name": "ipython",
    "version": 3
   },
   "file_extension": ".py",
   "mimetype": "text/x-python",
   "name": "python",
   "nbconvert_exporter": "python",
   "pygments_lexer": "ipython3",
   "version": "3.7.1"
  }
 },
 "nbformat": 4,
 "nbformat_minor": 2
}
